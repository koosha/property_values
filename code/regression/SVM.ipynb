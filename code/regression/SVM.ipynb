{
 "cells": [
  {
   "cell_type": "code",
   "execution_count": 6,
   "metadata": {
    "collapsed": false
   },
   "outputs": [],
   "source": [
    "import numpy as np\n",
    "import pandas as pd\n",
    "from numpy import genfromtxt\n",
    "\n",
    "dataset = genfromtxt('realestate_final.csv', delimiter=',')\n",
    "dataset = dataset[1:,:]\n",
    "#dataset = np.loadtxt(realestate, delimiter=\",\")\n",
    "# separate the data from the target attributes\n",
    "dataset = np.transpose(dataset)\n",
    "np.set_printoptions(threshold=5)\n",
    "X = dataset[:,0:2000]\n",
    "y = dataset[:,2001].astype(int)"
   ]
  },
  {
   "cell_type": "code",
   "execution_count": 7,
   "metadata": {
    "collapsed": true
   },
   "outputs": [],
   "source": [
    "from sklearn import preprocessing\n",
    "from sklearn.preprocessing import Imputer\n",
    "\n",
    "imp = Imputer(missing_values='NaN', strategy='median', axis=1) \n",
    "imp.fit(X)\n",
    "X = imp.fit_transform(X)\n",
    "# normalize the data attributes\n",
    "normalized_X = preprocessing.normalize(X)\n",
    "# standardize the data attributes\n",
    "standardized_X = preprocessing.scale(X)"
   ]
  },
  {
   "cell_type": "code",
   "execution_count": 8,
   "metadata": {
    "collapsed": false
   },
   "outputs": [
    {
     "name": "stdout",
     "output_type": "stream",
     "text": [
      "SVC(C=1.0, cache_size=200, class_weight=None, coef0=0.0,\n",
      "  decision_function_shape=None, degree=3, gamma='auto', kernel='rbf',\n",
      "  max_iter=-1, probability=False, random_state=None, shrinking=True,\n",
      "  tol=0.001, verbose=False)\n",
      "             precision    recall  f1-score   support\n",
      "\n",
      "       -113       1.00      1.00      1.00         1\n",
      "          0       0.98      0.99      0.98        81\n",
      "          1       0.90      0.82      0.86        11\n",
      "          2       1.00      1.00      1.00         2\n",
      "          3       1.00      1.00      1.00         3\n",
      "         53       1.00      1.00      1.00         1\n",
      "       1229       1.00      1.00      1.00         1\n",
      "       1435       1.00      1.00      1.00         1\n",
      "       1454       1.00      1.00      1.00         1\n",
      "       1756       1.00      1.00      1.00         1\n",
      "       2015       1.00      1.00      1.00         1\n",
      "       3266       1.00      1.00      1.00         1\n",
      "       3940       1.00      1.00      1.00         1\n",
      "       4292       1.00      1.00      1.00         1\n",
      "       4682       1.00      1.00      1.00         1\n",
      "       5022       1.00      1.00      1.00         1\n",
      "     128000       1.00      1.00      1.00         1\n",
      "     372900       1.00      1.00      1.00         1\n",
      "\n",
      "avg / total       0.97      0.97      0.97       111\n",
      "\n",
      "[[ 1  0  0 ...,  0  0  0]\n",
      " [ 0 80  1 ...,  0  0  0]\n",
      " [ 0  2  9 ...,  0  0  0]\n",
      " ..., \n",
      " [ 0  0  0 ...,  1  0  0]\n",
      " [ 0  0  0 ...,  0  1  0]\n",
      " [ 0  0  0 ...,  0  0  1]]\n"
     ]
    }
   ],
   "source": [
    "from sklearn import metrics\n",
    "from sklearn.svm import SVC\n",
    "# fit a SVM model to the data\n",
    "model = SVC()\n",
    "model.fit(X, y)\n",
    "print(model)\n",
    "# make predictions\n",
    "expected = y\n",
    "predicted = model.predict(X)\n",
    "# summarize the fit of the model\n",
    "print(metrics.classification_report(expected, predicted))\n",
    "print(metrics.confusion_matrix(expected, predicted))\n"
   ]
  },
  {
   "cell_type": "code",
   "execution_count": null,
   "metadata": {
    "collapsed": true
   },
   "outputs": [],
   "source": []
  }
 ],
 "metadata": {
  "kernelspec": {
   "display_name": "Python 2",
   "language": "python",
   "name": "python2"
  },
  "language_info": {
   "codemirror_mode": {
    "name": "ipython",
    "version": 2
   },
   "file_extension": ".py",
   "mimetype": "text/x-python",
   "name": "python",
   "nbconvert_exporter": "python",
   "pygments_lexer": "ipython2",
   "version": "2.7.10"
  }
 },
 "nbformat": 4,
 "nbformat_minor": 0
}
