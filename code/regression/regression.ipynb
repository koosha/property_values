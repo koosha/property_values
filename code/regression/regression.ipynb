{
 "cells": [
  {
   "cell_type": "code",
   "execution_count": 1,
   "metadata": {
    "collapsed": false,
    "scrolled": false
   },
   "outputs": [
    {
     "name": "stdout",
     "output_type": "stream",
     "text": [
      "Automatically created module for IPython interactive environment\n",
      "Average error, non-normalized data:  0.178070746577\n",
      "Average error, normalized data:  inf\n"
     ]
    },
    {
     "name": "stderr",
     "output_type": "stream",
     "text": [
      "/usr/lib64/python2.7/site-packages/sklearn/utils/validation.py:420: DataConversionWarning: Data with input dtype int64 was converted to float64 by MinMaxScaler.\n",
      "  warnings.warn(msg, DataConversionWarning)\n"
     ]
    }
   ],
   "source": [
    "print(__doc__)\n",
    "\n",
    "# Author: Rodolfo Wottrich\n",
    "# for CMPUT 551\n",
    "# Code source based on Jaques Grobler's\n",
    "# License: BSD 3 clause\n",
    "\n",
    "\n",
    "import matplotlib.pyplot as plt\n",
    "import numpy as np\n",
    "import pandas as pd\n",
    "from sklearn import datasets, linear_model, cross_validation, metrics\n",
    "from sklearn.cross_validation import KFold\n",
    "from sklearn import preprocessing\n",
    "\n",
    "pd.set_option('display.max_rows', 1000)\n",
    "\n",
    "# Load realestate dataset\n",
    "\n",
    "realestate = pd.read_csv('../../data/realestate/realestate.csv')\n",
    "\n",
    "X = realestate.ix[:,0:109]\n",
    "y = realestate.ix[:,110:111]\n",
    "\n",
    "# Create linear regression object\n",
    "regr = linear_model.LinearRegression()\n",
    "\n",
    "kf = KFold(len(X), n_folds=5, shuffle=True)\n",
    "error = list()\n",
    "for train, test in kf:\n",
    "    X_train = X.ix[train]\n",
    "    X_test = X.ix[test]\n",
    "    y_train = y.ix[train]\n",
    "    y_test = y.ix[test]\n",
    "\n",
    "    # Train the model using the training sets\n",
    "    y_ = regr.fit(X_train, y_train).predict(X_test)\n",
    "\n",
    "    error.append(np.mean( np.abs(y_ - y_test)/ y_test))\n",
    "\n",
    "print 'Average error, non-normalized data: ', np.mean(error)\n",
    "\n",
    "X_original = X.values #returns a numpy array\n",
    "min_max_scaler_x = preprocessing.MinMaxScaler()\n",
    "X_scaled = min_max_scaler_x.fit_transform(X_original)\n",
    "X_normalized = pd.DataFrame(X_scaled)\n",
    "\n",
    "y_original = y.values #returns a numpy array\n",
    "min_max_scaler_y = preprocessing.MinMaxScaler()\n",
    "y_scaled = min_max_scaler_y.fit_transform(y_original)\n",
    "y_normalized = pd.DataFrame(y_scaled)\n",
    "\n",
    "error = list()\n",
    "for train, test in kf:\n",
    "    X_train = X_normalized.ix[train]\n",
    "    X_test = X_normalized.ix[test]\n",
    "    y_train = y_normalized.ix[train]\n",
    "    y_test = y_normalized.ix[test]\n",
    "\n",
    "    # Train the model using the training sets\n",
    "    y_ = regr.fit(X_train, y_train).predict(X_test)\n",
    "    \n",
    "    individual_errors = np.abs(y_ - y_test)/ y_test\n",
    "    error.append(np.mean(individual_errors))\n",
    "\n",
    "print 'Average error, normalized data: ', np.mean(error)\n",
    "\n",
    "y_ = regr.fit(X, y)\n",
    "\n",
    "## Partial results:\n",
    "##     18.7% mean relative error for non-normalized data;\n",
    "##     For normalized data, weird predictions overflow error calculation"
   ]
  },
  {
   "cell_type": "code",
   "execution_count": 5,
   "metadata": {
    "collapsed": false
   },
   "outputs": [
    {
     "name": "stdout",
     "output_type": "stream",
     "text": [
      "[ True False False False  True  True False False False False False False\n",
      " False False False False False False False False False False False False\n",
      " False False False False False False False False False  True False False\n",
      " False False False False False False False False False False False False\n",
      " False False False False False False False False False False False False\n",
      " False  True False False False False False False False False False False\n",
      " False False False False False False False False False False False False\n",
      " False False False False False False False False False False False False\n",
      " False False False  True  True False False False False False False False\n",
      " False]\n",
      "Average error, feature selection:  0.168150913843\n"
     ]
    },
    {
     "name": "stderr",
     "output_type": "stream",
     "text": [
      "/usr/lib64/python2.7/site-packages/sklearn/utils/validation.py:515: DataConversionWarning: A column-vector y was passed when a 1d array was expected. Please change the shape of y to (n_samples, ), for example using ravel().\n",
      "  y = column_or_1d(y, warn=True)\n"
     ]
    }
   ],
   "source": [
    "import matplotlib.pyplot as plt\n",
    "import numpy as np\n",
    "import pandas as pd\n",
    "from sklearn import datasets, linear_model, cross_validation, metrics\n",
    "from sklearn.cross_validation import KFold\n",
    "from sklearn import preprocessing\n",
    "from sklearn.feature_selection import SelectKBest\n",
    "from sklearn.feature_selection import f_regression\n",
    "\n",
    "pd.set_option('display.max_rows', 1000)\n",
    "\n",
    "# Load realestate dataset\n",
    "\n",
    "realestate = pd.read_csv('../../data/realestate/realestate.csv')\n",
    "\n",
    "#sel = VarianceThreshold(threshold=(.7 * (1 - .7)))\n",
    "#nrm_X = sel.fit_transform(nrm_X)\n",
    "#retained = sel.get_support()\n",
    "#print retained\n",
    "X = realestate.ix[:,0:109]\n",
    "y = realestate.ix[:,110:111]\n",
    "kbest = SelectKBest(f_regression, k=7)\n",
    "X = kbest.fit_transform(X, y)\n",
    "retained2 = kbest.get_support()\n",
    "print retained2\n",
    "X = pd.DataFrame(X)\n",
    "\n",
    "# Create linear regression object\n",
    "regr = linear_model.LinearRegression()\n",
    "\n",
    "kf = KFold(len(X), n_folds=5, shuffle=True)\n",
    "\n",
    "error = list()\n",
    "for train, test in kf:\n",
    "    X_train = X.ix[train]\n",
    "    X_test = X.ix[test]\n",
    "    y_train = y.ix[train]\n",
    "    y_test = y.ix[test]\n",
    "\n",
    "    # Train the model using the training sets\n",
    "    y_ = regr.fit(X_train, y_train).predict(X_test)\n",
    "    \n",
    "    individual_errors = np.abs(y_ - y_test)/ y_test\n",
    "    error.append(np.mean(individual_errors))\n",
    "\n",
    "print 'Average error, feature selection: ', np.mean(error)"
   ]
  },
  {
   "cell_type": "code",
   "execution_count": 3,
   "metadata": {
    "collapsed": false
   },
   "outputs": [
    {
     "name": "stdout",
     "output_type": "stream",
     "text": [
      "Average error, feature selection:  inf\n"
     ]
    },
    {
     "name": "stderr",
     "output_type": "stream",
     "text": [
      "/usr/lib64/python2.7/site-packages/sklearn/utils/validation.py:515: DataConversionWarning: A column-vector y was passed when a 1d array was expected. Please change the shape of y to (n_samples, ), for example using ravel().\n",
      "  y = column_or_1d(y, warn=True)\n",
      "/usr/lib64/python2.7/site-packages/sklearn/utils/validation.py:420: DataConversionWarning: Data with input dtype int64 was converted to float64 by MinMaxScaler.\n",
      "  warnings.warn(msg, DataConversionWarning)\n"
     ]
    }
   ],
   "source": [
    "import matplotlib.pyplot as plt\n",
    "import numpy as np\n",
    "import pandas as pd\n",
    "from sklearn import datasets, linear_model, cross_validation, metrics\n",
    "from sklearn.cross_validation import KFold\n",
    "from sklearn import preprocessing\n",
    "from sklearn.feature_selection import SelectKBest\n",
    "from sklearn.feature_selection import f_regression\n",
    "\n",
    "pd.set_option('display.max_rows', 1000)\n",
    "\n",
    "# Load realestate dataset\n",
    "\n",
    "realestate = pd.read_csv('../../data/realestate/realestate.csv')\n",
    "\n",
    "#sel = VarianceThreshold(threshold=(.7 * (1 - .7)))\n",
    "#nrm_X = sel.fit_transform(nrm_X)\n",
    "#retained = sel.get_support()\n",
    "#print retained\n",
    "X = realestate.ix[:,0:109]\n",
    "y = realestate.ix[:,110:111]\n",
    "kbest = SelectKBest(f_regression, k=7)\n",
    "X = kbest.fit_transform(X, y)\n",
    "retained2 = kbest.get_support()\n",
    "X = pd.DataFrame(X)\n",
    "\n",
    "X_original = X.values #returns a numpy array\n",
    "min_max_scaler_x = preprocessing.MinMaxScaler()\n",
    "X_scaled = min_max_scaler_x.fit_transform(X_original)\n",
    "X_normalized = pd.DataFrame(X_scaled)\n",
    "\n",
    "y_original = y.values #returns a numpy array\n",
    "min_max_scaler_y = preprocessing.MinMaxScaler()\n",
    "y_scaled = min_max_scaler_y.fit_transform(y_original)\n",
    "y_normalized = pd.DataFrame(y_scaled)\n",
    "\n",
    "# Create linear regression object\n",
    "regr = linear_model.LinearRegression()\n",
    "\n",
    "kf = KFold(len(X), n_folds=5, shuffle=True)\n",
    "\n",
    "error = list()\n",
    "for train, test in kf:\n",
    "    X_train = X_normalized.ix[train]\n",
    "    X_test = X_normalized.ix[test]\n",
    "    y_train = y_normalized.ix[train]\n",
    "    y_test = y_normalized.ix[test]\n",
    "\n",
    "    # Train the model using the training sets\n",
    "    y_ = regr.fit(X_train, y_train).predict(X_test)\n",
    "    \n",
    "    individual_errors = np.abs(y_ - y_test)/ y_test\n",
    "    error.append(np.mean(individual_errors))\n",
    "\n",
    "print 'Average error, feature selection: ', np.mean(error)"
   ]
  },
  {
   "cell_type": "code",
   "execution_count": 4,
   "metadata": {
    "collapsed": false
   },
   "outputs": [
    {
     "name": "stdout",
     "output_type": "stream",
     "text": [
      "Average error, lat/long only:  0.476007524248\n"
     ]
    }
   ],
   "source": [
    "import matplotlib.pyplot as plt\n",
    "import numpy as np\n",
    "import pandas as pd\n",
    "from sklearn import datasets, linear_model, cross_validation, metrics\n",
    "from sklearn.cross_validation import KFold\n",
    "from sklearn import preprocessing\n",
    "from sklearn.feature_selection import SelectKBest\n",
    "from sklearn.feature_selection import f_regression\n",
    "\n",
    "pd.set_option('display.max_rows', 1000)\n",
    "\n",
    "# Load realestate dataset\n",
    "\n",
    "realestate = pd.read_csv('../../data/realestate/realestate.csv')\n",
    "\n",
    "X = realestate.ix[:,1:3]\n",
    "y = realestate.ix[:,110:111]\n",
    "\n",
    "# Create linear regression object\n",
    "regr = linear_model.LinearRegression()\n",
    "\n",
    "kf = KFold(len(X), n_folds=5, shuffle=True)\n",
    "\n",
    "error = list()\n",
    "for train, test in kf:\n",
    "    X_train = X.ix[train]\n",
    "    X_test = X.ix[test]\n",
    "    y_train = y.ix[train]\n",
    "    y_test = y.ix[test]\n",
    "\n",
    "    # Train the model using the training sets\n",
    "    y_ = regr.fit(X_train, y_train).predict(X_test)\n",
    "    \n",
    "    individual_errors = np.abs(y_ - y_test)/ y_test\n",
    "    error.append(np.mean(individual_errors))\n",
    "\n",
    "print 'Average error, lat/long only: ', np.mean(error)"
   ]
  },
  {
   "cell_type": "code",
   "execution_count": 5,
   "metadata": {
    "collapsed": false
   },
   "outputs": [
    {
     "name": "stdout",
     "output_type": "stream",
     "text": [
      "Average error, assessed values only:  0.247622994529\n"
     ]
    }
   ],
   "source": [
    "import matplotlib.pyplot as plt\n",
    "import numpy as np\n",
    "import pandas as pd\n",
    "from sklearn import datasets, linear_model, cross_validation, metrics\n",
    "from sklearn.cross_validation import KFold\n",
    "from sklearn import preprocessing\n",
    "from sklearn.feature_selection import SelectKBest\n",
    "from sklearn.feature_selection import f_regression\n",
    "\n",
    "pd.set_option('display.max_rows', 1000)\n",
    "\n",
    "# Load realestate dataset\n",
    "\n",
    "realestate = pd.read_csv('../../data/realestate/realestate.csv')\n",
    "\n",
    "X = realestate.ix[:,0:1]\n",
    "y = realestate.ix[:,110:111]\n",
    "\n",
    "# Create linear regression object\n",
    "regr = linear_model.LinearRegression()\n",
    "\n",
    "kf = KFold(len(X), n_folds=5, shuffle=True)\n",
    "\n",
    "error = list()\n",
    "for train, test in kf:\n",
    "    X_train = X.ix[train]\n",
    "    X_test = X.ix[test]\n",
    "    y_train = y.ix[train]\n",
    "    y_test = y.ix[test]\n",
    "\n",
    "    # Train the model using the training sets\n",
    "    y_ = regr.fit(X_train, y_train).predict(X_test)\n",
    "    \n",
    "    individual_errors = np.abs(y_ - y_test)/ y_test\n",
    "    error.append(np.mean(individual_errors))\n",
    "\n",
    "print 'Average error, assessed values only: ', np.mean(error)"
   ]
  },
  {
   "cell_type": "code",
   "execution_count": 6,
   "metadata": {
    "collapsed": false
   },
   "outputs": [
    {
     "name": "stdout",
     "output_type": "stream",
     "text": [
      "Average error, non-normalized data, condo dataset:  0.187490341788\n"
     ]
    }
   ],
   "source": [
    "import matplotlib.pyplot as plt\n",
    "import numpy as np\n",
    "import pandas as pd\n",
    "from sklearn import datasets, linear_model, cross_validation, metrics\n",
    "from sklearn.cross_validation import KFold\n",
    "from sklearn import preprocessing\n",
    "\n",
    "pd.set_option('display.max_rows', 1000)\n",
    "\n",
    "# Load realestate dataset\n",
    "\n",
    "realestate = pd.read_csv('../../data/realestate/realestate_condo.csv')\n",
    "\n",
    "X = realestate.ix[:,0:105]\n",
    "y = realestate.ix[:,105:106]\n",
    "\n",
    "# Create linear regression object\n",
    "regr = linear_model.LinearRegression()\n",
    "\n",
    "kf = KFold(len(X), n_folds=5, shuffle=True)\n",
    "error = list()\n",
    "for train, test in kf:\n",
    "    X_train = X.ix[train]\n",
    "    X_test = X.ix[test]\n",
    "    y_train = y.ix[train]\n",
    "    y_test = y.ix[test]\n",
    "\n",
    "    # Train the model using the training sets\n",
    "    y_ = regr.fit(X_train, y_train).predict(X_test)\n",
    "\n",
    "    error.append(np.mean( np.abs(y_ - y_test)/ y_test))\n",
    "\n",
    "print 'Average error, non-normalized data, condo dataset: ', np.mean(error)"
   ]
  },
  {
   "cell_type": "code",
   "execution_count": 8,
   "metadata": {
    "collapsed": false
   },
   "outputs": [
    {
     "name": "stdout",
     "output_type": "stream",
     "text": [
      "Average error, non-normalized data, residential dataset:  0.159796206428\n"
     ]
    }
   ],
   "source": [
    "import matplotlib.pyplot as plt\n",
    "import numpy as np\n",
    "import pandas as pd\n",
    "from sklearn import datasets, linear_model, cross_validation, metrics\n",
    "from sklearn.cross_validation import KFold\n",
    "from sklearn import preprocessing\n",
    "\n",
    "pd.set_option('display.max_rows', 1000)\n",
    "\n",
    "# Load realestate dataset\n",
    "\n",
    "realestate = pd.read_csv('../../data/realestate/realestate_residential.csv')\n",
    "\n",
    "X = realestate.ix[:,0:82]\n",
    "y = realestate.ix[:,82:83]\n",
    "\n",
    "# Create linear regression object\n",
    "regr = linear_model.LinearRegression()\n",
    "\n",
    "kf = KFold(len(X), n_folds=5, shuffle=True)\n",
    "error = list()\n",
    "for train, test in kf:\n",
    "    X_train = X.ix[train]\n",
    "    X_test = X.ix[test]\n",
    "    y_train = y.ix[train]\n",
    "    y_test = y.ix[test]\n",
    "\n",
    "    # Train the model using the training sets\n",
    "    y_ = regr.fit(X_train, y_train).predict(X_test)\n",
    "\n",
    "    error.append(np.mean( np.abs(y_ - y_test)/ y_test))\n",
    "\n",
    "print 'Average error, non-normalized data, residential dataset: ', np.mean(error)"
   ]
  },
  {
   "cell_type": "code",
   "execution_count": 9,
   "metadata": {
    "collapsed": false
   },
   "outputs": [
    {
     "name": "stdout",
     "output_type": "stream",
     "text": [
      "Average error, lat/long only, condo dataset:  0.389881454078\n"
     ]
    }
   ],
   "source": [
    "import matplotlib.pyplot as plt\n",
    "import numpy as np\n",
    "import pandas as pd\n",
    "from sklearn import datasets, linear_model, cross_validation, metrics\n",
    "from sklearn.cross_validation import KFold\n",
    "from sklearn import preprocessing\n",
    "from sklearn.feature_selection import SelectKBest\n",
    "from sklearn.feature_selection import f_regression\n",
    "\n",
    "pd.set_option('display.max_rows', 1000)\n",
    "\n",
    "# Load realestate dataset\n",
    "\n",
    "realestate = pd.read_csv('../../data/realestate/realestate_condo.csv')\n",
    "\n",
    "X = realestate.ix[:,1:3]\n",
    "y = realestate.ix[:,105:106]\n",
    "\n",
    "# Create linear regression object\n",
    "regr = linear_model.LinearRegression()\n",
    "\n",
    "kf = KFold(len(X), n_folds=5, shuffle=True)\n",
    "\n",
    "error = list()\n",
    "for train, test in kf:\n",
    "    X_train = X.ix[train]\n",
    "    X_test = X.ix[test]\n",
    "    y_train = y.ix[train]\n",
    "    y_test = y.ix[test]\n",
    "\n",
    "    # Train the model using the training sets\n",
    "    y_ = regr.fit(X_train, y_train).predict(X_test)\n",
    "    \n",
    "    individual_errors = np.abs(y_ - y_test)/ y_test\n",
    "    error.append(np.mean(individual_errors))\n",
    "\n",
    "print 'Average error, lat/long only, condo dataset: ', np.mean(error)"
   ]
  },
  {
   "cell_type": "code",
   "execution_count": 10,
   "metadata": {
    "collapsed": false
   },
   "outputs": [
    {
     "name": "stdout",
     "output_type": "stream",
     "text": [
      "Average error, lat/long only:  0.321407925808\n"
     ]
    }
   ],
   "source": [
    "import matplotlib.pyplot as plt\n",
    "import numpy as np\n",
    "import pandas as pd\n",
    "from sklearn import datasets, linear_model, cross_validation, metrics\n",
    "from sklearn.cross_validation import KFold\n",
    "from sklearn import preprocessing\n",
    "from sklearn.feature_selection import SelectKBest\n",
    "from sklearn.feature_selection import f_regression\n",
    "\n",
    "pd.set_option('display.max_rows', 1000)\n",
    "\n",
    "# Load realestate dataset\n",
    "\n",
    "realestate = pd.read_csv('../../data/realestate/realestate_residential.csv')\n",
    "\n",
    "X = realestate.ix[:,1:3]\n",
    "y = realestate.ix[:,82:83]\n",
    "\n",
    "# Create linear regression object\n",
    "regr = linear_model.LinearRegression()\n",
    "\n",
    "kf = KFold(len(X), n_folds=5, shuffle=True)\n",
    "\n",
    "error = list()\n",
    "for train, test in kf:\n",
    "    X_train = X.ix[train]\n",
    "    X_test = X.ix[test]\n",
    "    y_train = y.ix[train]\n",
    "    y_test = y.ix[test]\n",
    "\n",
    "    # Train the model using the training sets\n",
    "    y_ = regr.fit(X_train, y_train).predict(X_test)\n",
    "    \n",
    "    individual_errors = np.abs(y_ - y_test)/ y_test\n",
    "    error.append(np.mean(individual_errors))\n",
    "\n",
    "print 'Average error, lat/long only: ', np.mean(error)"
   ]
  },
  {
   "cell_type": "code",
   "execution_count": 12,
   "metadata": {
    "collapsed": false
   },
   "outputs": [
    {
     "name": "stdout",
     "output_type": "stream",
     "text": [
      "Average error, assessed values only, condo dataset:  0.264715158048\n"
     ]
    }
   ],
   "source": [
    "import matplotlib.pyplot as plt\n",
    "import numpy as np\n",
    "import pandas as pd\n",
    "from sklearn import datasets, linear_model, cross_validation, metrics\n",
    "from sklearn.cross_validation import KFold\n",
    "from sklearn import preprocessing\n",
    "from sklearn.feature_selection import SelectKBest\n",
    "from sklearn.feature_selection import f_regression\n",
    "\n",
    "pd.set_option('display.max_rows', 1000)\n",
    "\n",
    "# Load realestate dataset\n",
    "\n",
    "realestate = pd.read_csv('../../data/realestate/realestate_condo.csv')\n",
    "\n",
    "X = realestate.ix[:,0:1]\n",
    "y = realestate.ix[:,105:106]\n",
    "\n",
    "# Create linear regression object\n",
    "regr = linear_model.LinearRegression()\n",
    "\n",
    "kf = KFold(len(X), n_folds=5, shuffle=True)\n",
    "\n",
    "error = list()\n",
    "for train, test in kf:\n",
    "    X_train = X.ix[train]\n",
    "    X_test = X.ix[test]\n",
    "    y_train = y.ix[train]\n",
    "    y_test = y.ix[test]\n",
    "\n",
    "    # Train the model using the training sets\n",
    "    y_ = regr.fit(X_train, y_train).predict(X_test)\n",
    "    \n",
    "    individual_errors = np.abs(y_ - y_test)/ y_test\n",
    "    error.append(np.mean(individual_errors))\n",
    "\n",
    "print 'Average error, assessed values only, condo dataset: ', np.mean(error)"
   ]
  },
  {
   "cell_type": "code",
   "execution_count": 13,
   "metadata": {
    "collapsed": false
   },
   "outputs": [
    {
     "name": "stdout",
     "output_type": "stream",
     "text": [
      "Average error, assessed values only, residential dataset:  0.225016019177\n"
     ]
    }
   ],
   "source": [
    "import matplotlib.pyplot as plt\n",
    "import numpy as np\n",
    "import pandas as pd\n",
    "from sklearn import datasets, linear_model, cross_validation, metrics\n",
    "from sklearn.cross_validation import KFold\n",
    "from sklearn import preprocessing\n",
    "from sklearn.feature_selection import SelectKBest\n",
    "from sklearn.feature_selection import f_regression\n",
    "\n",
    "pd.set_option('display.max_rows', 1000)\n",
    "\n",
    "# Load realestate dataset\n",
    "\n",
    "realestate = pd.read_csv('../../data/realestate/realestate_residential.csv')\n",
    "\n",
    "X = realestate.ix[:,0:1]\n",
    "y = realestate.ix[:,82:83]\n",
    "\n",
    "# Create linear regression object\n",
    "regr = linear_model.LinearRegression()\n",
    "\n",
    "kf = KFold(len(X), n_folds=5, shuffle=True)\n",
    "\n",
    "error = list()\n",
    "for train, test in kf:\n",
    "    X_train = X.ix[train]\n",
    "    X_test = X.ix[test]\n",
    "    y_train = y.ix[train]\n",
    "    y_test = y.ix[test]\n",
    "\n",
    "    # Train the model using the training sets\n",
    "    y_ = regr.fit(X_train, y_train).predict(X_test)\n",
    "    \n",
    "    individual_errors = np.abs(y_ - y_test)/ y_test\n",
    "    error.append(np.mean(individual_errors))\n",
    "\n",
    "print 'Average error, assessed values only, residential dataset: ', np.mean(error)"
   ]
  },
  {
   "cell_type": "code",
   "execution_count": 14,
   "metadata": {
    "collapsed": false
   },
   "outputs": [
    {
     "name": "stdout",
     "output_type": "stream",
     "text": [
      "Average error, feature selection, condo dataset:  0.195096943044\n"
     ]
    },
    {
     "name": "stderr",
     "output_type": "stream",
     "text": [
      "/usr/lib64/python2.7/site-packages/sklearn/utils/validation.py:515: DataConversionWarning: A column-vector y was passed when a 1d array was expected. Please change the shape of y to (n_samples, ), for example using ravel().\n",
      "  y = column_or_1d(y, warn=True)\n"
     ]
    }
   ],
   "source": [
    "import matplotlib.pyplot as plt\n",
    "import numpy as np\n",
    "import pandas as pd\n",
    "from sklearn import datasets, linear_model, cross_validation, metrics\n",
    "from sklearn.cross_validation import KFold\n",
    "from sklearn import preprocessing\n",
    "from sklearn.feature_selection import SelectKBest\n",
    "from sklearn.feature_selection import f_regression\n",
    "\n",
    "pd.set_option('display.max_rows', 1000)\n",
    "\n",
    "# Load realestate dataset\n",
    "\n",
    "realestate = pd.read_csv('../../data/realestate/realestate_condo.csv')\n",
    "\n",
    "#sel = VarianceThreshold(threshold=(.7 * (1 - .7)))\n",
    "#nrm_X = sel.fit_transform(nrm_X)\n",
    "#retained = sel.get_support()\n",
    "#print retained\n",
    "X = realestate.ix[:,0:105]\n",
    "y = realestate.ix[:,105:106]\n",
    "kbest = SelectKBest(f_regression, k=7)\n",
    "X = kbest.fit_transform(X, y)\n",
    "retained2 = kbest.get_support()\n",
    "X = pd.DataFrame(X)\n",
    "\n",
    "# Create linear regression object\n",
    "regr = linear_model.LinearRegression()\n",
    "\n",
    "kf = KFold(len(X), n_folds=5, shuffle=True)\n",
    "\n",
    "error = list()\n",
    "for train, test in kf:\n",
    "    X_train = X.ix[train]\n",
    "    X_test = X.ix[test]\n",
    "    y_train = y.ix[train]\n",
    "    y_test = y.ix[test]\n",
    "\n",
    "    # Train the model using the training sets\n",
    "    y_ = regr.fit(X_train, y_train).predict(X_test)\n",
    "    \n",
    "    individual_errors = np.abs(y_ - y_test)/ y_test\n",
    "    error.append(np.mean(individual_errors))\n",
    "\n",
    "print 'Average error, feature selection, condo dataset: ', np.mean(error)"
   ]
  },
  {
   "cell_type": "code",
   "execution_count": 15,
   "metadata": {
    "collapsed": false
   },
   "outputs": [
    {
     "name": "stdout",
     "output_type": "stream",
     "text": [
      "Average error, feature selection, residential dataset:  0.164841899523\n"
     ]
    },
    {
     "name": "stderr",
     "output_type": "stream",
     "text": [
      "/usr/lib64/python2.7/site-packages/sklearn/utils/validation.py:515: DataConversionWarning: A column-vector y was passed when a 1d array was expected. Please change the shape of y to (n_samples, ), for example using ravel().\n",
      "  y = column_or_1d(y, warn=True)\n"
     ]
    }
   ],
   "source": [
    "import matplotlib.pyplot as plt\n",
    "import numpy as np\n",
    "import pandas as pd\n",
    "from sklearn import datasets, linear_model, cross_validation, metrics\n",
    "from sklearn.cross_validation import KFold\n",
    "from sklearn import preprocessing\n",
    "from sklearn.feature_selection import SelectKBest\n",
    "from sklearn.feature_selection import f_regression\n",
    "\n",
    "pd.set_option('display.max_rows', 1000)\n",
    "\n",
    "# Load realestate dataset\n",
    "\n",
    "realestate = pd.read_csv('../../data/realestate/realestate_residential.csv')\n",
    "\n",
    "#sel = VarianceThreshold(threshold=(.7 * (1 - .7)))\n",
    "#nrm_X = sel.fit_transform(nrm_X)\n",
    "#retained = sel.get_support()\n",
    "#print retained\n",
    "X = realestate.ix[:,0:82]\n",
    "y = realestate.ix[:,82:83]\n",
    "kbest = SelectKBest(f_regression, k=7)\n",
    "X = kbest.fit_transform(X, y)\n",
    "retained2 = kbest.get_support()\n",
    "X = pd.DataFrame(X)\n",
    "\n",
    "# Create linear regression object\n",
    "regr = linear_model.LinearRegression()\n",
    "\n",
    "kf = KFold(len(X), n_folds=5, shuffle=True)\n",
    "\n",
    "error = list()\n",
    "for train, test in kf:\n",
    "    X_train = X.ix[train]\n",
    "    X_test = X.ix[test]\n",
    "    y_train = y.ix[train]\n",
    "    y_test = y.ix[test]\n",
    "\n",
    "    # Train the model using the training sets\n",
    "    y_ = regr.fit(X_train, y_train).predict(X_test)\n",
    "    \n",
    "    individual_errors = np.abs(y_ - y_test)/ y_test\n",
    "    error.append(np.mean(individual_errors))\n",
    "\n",
    "print 'Average error, feature selection, residential dataset: ', np.mean(error)"
   ]
  },
  {
   "cell_type": "code",
   "execution_count": null,
   "metadata": {
    "collapsed": true
   },
   "outputs": [],
   "source": []
  }
 ],
 "metadata": {
  "kernelspec": {
   "display_name": "Python 2",
   "language": "python",
   "name": "python2"
  },
  "language_info": {
   "codemirror_mode": {
    "name": "ipython",
    "version": 2
   },
   "file_extension": ".py",
   "mimetype": "text/x-python",
   "name": "python",
   "nbconvert_exporter": "python",
   "pygments_lexer": "ipython2",
   "version": "2.7.10"
  }
 },
 "nbformat": 4,
 "nbformat_minor": 0
}
