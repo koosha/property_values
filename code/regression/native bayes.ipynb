{
 "cells": [
  {
   "cell_type": "code",
   "execution_count": 88,
   "metadata": {
    "collapsed": false
   },
   "outputs": [],
   "source": [
    "import numpy as np\n",
    "import pandas as pd\n",
    "from numpy import genfromtxt\n",
    "\n",
    "dataset = genfromtxt('realestate_final.csv', delimiter=',')\n",
    "dataset = dataset[1:,:]\n",
    "#dataset = np.loadtxt(realestate, delimiter=\",\")\n",
    "# separate the data from the target attributes\n",
    "dataset = np.transpose(dataset)\n",
    "np.set_printoptions(threshold=5)\n",
    "X = dataset[:,0:2000]\n",
    "y = dataset[:,2001].astype(int)\n"
   ]
  },
  {
   "cell_type": "code",
   "execution_count": 89,
   "metadata": {
    "collapsed": true
   },
   "outputs": [],
   "source": [
    "from sklearn import preprocessing\n",
    "from sklearn.preprocessing import Imputer\n",
    "\n",
    "imp = Imputer(missing_values='NaN', strategy='median', axis=1) \n",
    "imp.fit(X)\n",
    "X = imp.fit_transform(X)\n",
    "# normalize the data attributes\n",
    "normalized_X = preprocessing.normalize(X)\n",
    "# standardize the data attributes\n",
    "standardized_X = preprocessing.scale(X)\n",
    "\n"
   ]
  },
  {
   "cell_type": "code",
   "execution_count": 87,
   "metadata": {
    "collapsed": false,
    "scrolled": true
   },
   "outputs": [
    {
     "name": "stdout",
     "output_type": "stream",
     "text": [
      "GaussianNB()\n",
      "             precision    recall  f1-score   support\n",
      "\n",
      "       -113       1.00      1.00      1.00         1\n",
      "          0       1.00      0.01      0.02        81\n",
      "          1       0.12      1.00      0.21        11\n",
      "          2       0.00      0.00      0.00         1\n",
      "          3       1.00      1.00      1.00         3\n",
      "          4       1.00      1.00      1.00         1\n",
      "         53       1.00      1.00      1.00         1\n",
      "        663       1.00      1.00      1.00         1\n",
      "        703       1.00      1.00      1.00         1\n",
      "       1287       1.00      1.00      1.00         1\n",
      "       1758       1.00      1.00      1.00         1\n",
      "       2004       1.00      1.00      1.00         1\n",
      "       2115       1.00      1.00      1.00         1\n",
      "       2613       1.00      1.00      1.00         1\n",
      "       3705       1.00      1.00      1.00         1\n",
      "       3898       1.00      1.00      1.00         1\n",
      "       5520       1.00      1.00      1.00         1\n",
      "     449900       1.00      1.00      1.00         1\n",
      "     460000       1.00      1.00      1.00         1\n",
      "\n",
      "avg / total       0.90      0.27      0.20       111\n",
      "\n",
      "[[ 1  0  0 ...,  0  0  0]\n",
      " [ 0  1 80 ...,  0  0  0]\n",
      " [ 0  0 11 ...,  0  0  0]\n",
      " ..., \n",
      " [ 0  0  0 ...,  1  0  0]\n",
      " [ 0  0  0 ...,  0  1  0]\n",
      " [ 0  0  0 ...,  0  0  1]]\n"
     ]
    }
   ],
   "source": [
    "from sklearn import metrics\n",
    "from sklearn.naive_bayes import GaussianNB\n",
    "\n",
    "\n",
    "model = GaussianNB()\n",
    "model.fit(X, y)\n",
    "print(model)\n",
    "# make predictions\n",
    "expected = y\n",
    "predicted = model.predict(X)\n",
    "# summarize the fit of the model\n",
    "print(metrics.classification_report(expected, predicted))\n",
    "print(metrics.confusion_matrix(expected, predicted))"
   ]
  },
  {
   "cell_type": "code",
   "execution_count": null,
   "metadata": {
    "collapsed": true
   },
   "outputs": [],
   "source": []
  }
 ],
 "metadata": {
  "kernelspec": {
   "display_name": "Python 2",
   "language": "python",
   "name": "python2"
  },
  "language_info": {
   "codemirror_mode": {
    "name": "ipython",
    "version": 2
   },
   "file_extension": ".py",
   "mimetype": "text/x-python",
   "name": "python",
   "nbconvert_exporter": "python",
   "pygments_lexer": "ipython2",
   "version": "2.7.10"
  }
 },
 "nbformat": 4,
 "nbformat_minor": 0
}
