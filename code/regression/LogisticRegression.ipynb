{
 "cells": [
  {
   "cell_type": "code",
   "execution_count": 2,
   "metadata": {
    "collapsed": false
   },
   "outputs": [],
   "source": [
    "import numpy as np\n",
    "import pandas as pd\n",
    "from numpy import genfromtxt\n",
    "\n",
    "dataset = genfromtxt('realestate_final.csv', delimiter=',')\n",
    "dataset = dataset[1:,:]\n",
    "#dataset = np.loadtxt(realestate, delimiter=\",\")\n",
    "# separate the data from the target attributes\n",
    "dataset = np.transpose(dataset)\n",
    "np.set_printoptions(threshold=5)\n",
    "X = dataset[:,0:2000]\n",
    "y = dataset[:,2001].astype(int)"
   ]
  },
  {
   "cell_type": "code",
   "execution_count": 3,
   "metadata": {
    "collapsed": true
   },
   "outputs": [],
   "source": [
    "from sklearn import preprocessing\n",
    "from sklearn.preprocessing import Imputer\n",
    "\n",
    "imp = Imputer(missing_values='NaN', strategy='median', axis=1) \n",
    "imp.fit(X)\n",
    "X = imp.fit_transform(X)\n",
    "# normalize the data attributes\n",
    "normalized_X = preprocessing.normalize(X)\n",
    "# standardize the data attributes\n",
    "standardized_X = preprocessing.scale(X)"
   ]
  },
  {
   "cell_type": "code",
   "execution_count": 4,
   "metadata": {
    "collapsed": false
   },
   "outputs": [
    {
     "name": "stdout",
     "output_type": "stream",
     "text": [
      "LogisticRegression(C=1.0, class_weight=None, dual=False, fit_intercept=True,\n",
      "          intercept_scaling=1, max_iter=100, multi_class='ovr', n_jobs=1,\n",
      "          penalty='l2', random_state=None, solver='liblinear', tol=0.0001,\n",
      "          verbose=0, warm_start=False)\n",
      "             precision    recall  f1-score   support\n",
      "\n",
      "       -113       1.00      1.00      1.00         1\n",
      "          0       0.98      0.58      0.73        81\n",
      "          1       0.67      0.55      0.60        11\n",
      "          2       1.00      1.00      1.00         2\n",
      "          3       1.00      0.67      0.80         3\n",
      "         53       1.00      1.00      1.00         1\n",
      "       1229       1.00      1.00      1.00         1\n",
      "       1435       0.05      1.00      0.09         1\n",
      "       1454       1.00      1.00      1.00         1\n",
      "       1756       1.00      1.00      1.00         1\n",
      "       2015       1.00      1.00      1.00         1\n",
      "       3266       0.25      1.00      0.40         1\n",
      "       3940       1.00      1.00      1.00         1\n",
      "       4292       1.00      1.00      1.00         1\n",
      "       4682       0.25      1.00      0.40         1\n",
      "       5022       0.50      1.00      0.67         1\n",
      "     128000       1.00      1.00      1.00         1\n",
      "     372900       0.10      1.00      0.18         1\n",
      "\n",
      "avg / total       0.92      0.64      0.73       111\n",
      "\n",
      "[[ 1  0  0 ...,  0  0  0]\n",
      " [ 0 47  3 ...,  1  0  9]\n",
      " [ 0  1  6 ...,  0  0  0]\n",
      " ..., \n",
      " [ 0  0  0 ...,  1  0  0]\n",
      " [ 0  0  0 ...,  0  1  0]\n",
      " [ 0  0  0 ...,  0  0  1]]\n"
     ]
    }
   ],
   "source": [
    "from sklearn import metrics\n",
    "from sklearn.linear_model import LogisticRegression\n",
    "model = LogisticRegression()\n",
    "model.fit(X, y)\n",
    "print(model)\n",
    "# make predictions\n",
    "expected = y\n",
    "predicted = model.predict(X)\n",
    "# summarize the fit of the model\n",
    "print(metrics.classification_report(expected, predicted))\n",
    "print(metrics.confusion_matrix(expected, predicted))"
   ]
  },
  {
   "cell_type": "code",
   "execution_count": null,
   "metadata": {
    "collapsed": true
   },
   "outputs": [],
   "source": []
  }
 ],
 "metadata": {
  "kernelspec": {
   "display_name": "Python 2",
   "language": "python",
   "name": "python2"
  },
  "language_info": {
   "codemirror_mode": {
    "name": "ipython",
    "version": 2
   },
   "file_extension": ".py",
   "mimetype": "text/x-python",
   "name": "python",
   "nbconvert_exporter": "python",
   "pygments_lexer": "ipython2",
   "version": "2.7.10"
  }
 },
 "nbformat": 4,
 "nbformat_minor": 0
}
