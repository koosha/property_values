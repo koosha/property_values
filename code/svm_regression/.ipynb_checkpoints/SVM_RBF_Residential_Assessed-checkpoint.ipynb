{
 "cells": [
  {
   "cell_type": "code",
   "execution_count": 1,
   "metadata": {
    "collapsed": false
   },
   "outputs": [
    {
     "name": "stderr",
     "output_type": "stream",
     "text": [
      "C:\\Anaconda3\\lib\\site-packages\\sklearn\\utils\\fixes.py:64: DeprecationWarning: inspect.getargspec() is deprecated, use inspect.signature() instead\n",
      "  if 'order' in inspect.getargspec(np.copy)[0]:\n"
     ]
    }
   ],
   "source": [
    "#\n",
    "# Import needed packages\n",
    "#\n",
    "import numpy as np\n",
    "import time\n",
    "import pandas as pd\n",
    "import csv\n",
    "from numpy import genfromtxt\n",
    "from sklearn import cross_validation\n",
    "from sklearn.cross_validation import KFold\n",
    "from sklearn.grid_search import GridSearchCV\n",
    "from sklearn.learning_curve import learning_curve\n",
    "from sklearn.svm import SVR\n",
    "from sklearn import preprocessing\n",
    "from sklearn.preprocessing import Imputer\n",
    "from sklearn import metrics\n",
    "import matplotlib.pyplot as plt\n",
    "import matplotlib\n",
    "%matplotlib inline"
   ]
  },
  {
   "cell_type": "code",
   "execution_count": 2,
   "metadata": {
    "collapsed": false
   },
   "outputs": [
    {
     "name": "stdout",
     "output_type": "stream",
     "text": [
      "Number of data: 2598 \n",
      "Number of variables: 1\n"
     ]
    }
   ],
   "source": [
    "#\n",
    "# Read data\n",
    "#\n",
    "dataset = genfromtxt('../../data/realestate/realestate_residential.csv', delimiter=',')\n",
    "dataset = dataset[1:,:]\n",
    "\n",
    "ndata=dataset.shape[0]\n",
    "nvar=dataset.shape[1]\n",
    "\n",
    "X = dataset[:,0]\n",
    "y = dataset[:,nvar-1]\n",
    "nvar = 1\n",
    "\n",
    "print('Number of data: %d \\nNumber of variables: %d' % (ndata,nvar) )"
   ]
  },
  {
   "cell_type": "code",
   "execution_count": 3,
   "metadata": {
    "collapsed": false
   },
   "outputs": [],
   "source": [
    "#\n",
    "# normalize the data attributes\n",
    "#\n",
    "min_X = np.amin(X,axis=0)\n",
    "max_X = np.amax(X,axis=0)\n",
    "diff_X = max_X-min_X;\n",
    "nrm_X = np.zeros((ndata,nvar))\n",
    "for i in range(ndata):\n",
    "    nrm_X[i] = (X[i]-min_X) / diff_X"
   ]
  },
  {
   "cell_type": "code",
   "execution_count": 4,
   "metadata": {
    "collapsed": false
   },
   "outputs": [],
   "source": [
    "#\n",
    "# define parameters for cross-validation\n",
    "#\n",
    "nfold=5\n",
    "\n",
    "minsigma=-1\n",
    "maxsigma=3\n",
    "nsigma=5\n",
    "\n",
    "mincost=4\n",
    "maxcost=9\n",
    "ncost=5\n",
    "\n",
    "cvsigma=np.logspace(minsigma, maxsigma, nsigma)\n",
    "cvcost=np.logspace(mincost,maxcost,ncost)"
   ]
  },
  {
   "cell_type": "code",
   "execution_count": 5,
   "metadata": {
    "collapsed": false
   },
   "outputs": [
    {
     "ename": "SyntaxError",
     "evalue": "invalid syntax (<ipython-input-5-701fe2341c37>, line 5)",
     "output_type": "error",
     "traceback": [
      "\u001b[1;36m  File \u001b[1;32m\"<ipython-input-5-701fe2341c37>\"\u001b[1;36m, line \u001b[1;32m5\u001b[0m\n\u001b[1;33m    kf = KFold(ndata, n_folds=nfold. shuffle=True)\u001b[0m\n\u001b[1;37m                                            ^\u001b[0m\n\u001b[1;31mSyntaxError\u001b[0m\u001b[1;31m:\u001b[0m invalid syntax\n"
     ]
    }
   ],
   "source": [
    "#\n",
    "# 5-fold cross-validation to define parameters\n",
    "#\n",
    "i=0\n",
    "kf = KFold(ndata, n_folds=nfold, shuffle=True)\n",
    "cvape=np.zeros((nsigma,ncost,nfold))\n",
    "for train, test in kf:\n",
    "    X_train=nrm_X[train]\n",
    "    y_train=y[train]\n",
    "    X_test=nrm_X[test]\n",
    "    y_test=y[test]\n",
    "    for j in range(nsigma):\n",
    "        for k in range(ncost):\n",
    "            print (\" Working on: Fold=%10.4f, Sigma=%10.4f, Cost=%10.4f\" % (i,cvsigma[j],cvcost[k]) )\n",
    "            svr_rbf=SVR(kernel='rbf', C=cvcost[k], gamma=cvsigma[j])\n",
    "            y_pred=svr_rbf.fit(X_train, y_train).predict(X_test)\n",
    "            cvape[i,j,k] = np.mean ( np.abs((y_test - y_pred)/y_test) )\n",
    "    i = i+1           \n",
    "            "
   ]
  },
  {
   "cell_type": "code",
   "execution_count": null,
   "metadata": {
    "collapsed": false
   },
   "outputs": [],
   "source": [
    "#\n",
    "# Mean absolute percentage error\n",
    "#\n",
    "cvmape=np.mean(cvape,axis=0)"
   ]
  },
  {
   "cell_type": "code",
   "execution_count": 6,
   "metadata": {
    "collapsed": false
   },
   "outputs": [
    {
     "ename": "NameError",
     "evalue": "name 'cvmape' is not defined",
     "output_type": "error",
     "traceback": [
      "\u001b[1;31m---------------------------------------------------------------------------\u001b[0m",
      "\u001b[1;31mNameError\u001b[0m                                 Traceback (most recent call last)",
      "\u001b[1;32m<ipython-input-6-aa22b4407de5>\u001b[0m in \u001b[0;36m<module>\u001b[1;34m()\u001b[0m\n\u001b[0;32m      2\u001b[0m \u001b[1;31m# Get indexes of parameter combination with minimum error\u001b[0m\u001b[1;33m\u001b[0m\u001b[1;33m\u001b[0m\u001b[0m\n\u001b[0;32m      3\u001b[0m \u001b[1;31m#\u001b[0m\u001b[1;33m\u001b[0m\u001b[1;33m\u001b[0m\u001b[0m\n\u001b[1;32m----> 4\u001b[1;33m \u001b[0midxsigma\u001b[0m\u001b[1;33m,\u001b[0m \u001b[0midxcost\u001b[0m \u001b[1;33m=\u001b[0m \u001b[0mnp\u001b[0m\u001b[1;33m.\u001b[0m\u001b[0munravel_index\u001b[0m\u001b[1;33m(\u001b[0m\u001b[0mcvmape\u001b[0m\u001b[1;33m.\u001b[0m\u001b[0margmin\u001b[0m\u001b[1;33m(\u001b[0m\u001b[1;33m)\u001b[0m\u001b[1;33m,\u001b[0m \u001b[0mcvmape\u001b[0m\u001b[1;33m.\u001b[0m\u001b[0mshape\u001b[0m\u001b[1;33m)\u001b[0m\u001b[1;33m\u001b[0m\u001b[0m\n\u001b[0m",
      "\u001b[1;31mNameError\u001b[0m: name 'cvmape' is not defined"
     ]
    }
   ],
   "source": [
    "#\n",
    "# Get indexes of parameter combination with minimum error\n",
    "#\n",
    "idxsigma, idxcost = np.unravel_index(cvmape.argmin(), cvmape.shape)"
   ]
  },
  {
   "cell_type": "code",
   "execution_count": 7,
   "metadata": {
    "collapsed": false
   },
   "outputs": [
    {
     "ename": "NameError",
     "evalue": "name 'idxsigma' is not defined",
     "output_type": "error",
     "traceback": [
      "\u001b[1;31m---------------------------------------------------------------------------\u001b[0m",
      "\u001b[1;31mNameError\u001b[0m                                 Traceback (most recent call last)",
      "\u001b[1;32m<ipython-input-7-e5c119120f3b>\u001b[0m in \u001b[0;36m<module>\u001b[1;34m()\u001b[0m\n\u001b[0;32m      2\u001b[0m \u001b[1;31m# Print out Results\u001b[0m\u001b[1;33m\u001b[0m\u001b[1;33m\u001b[0m\u001b[0m\n\u001b[0;32m      3\u001b[0m \u001b[1;31m#\u001b[0m\u001b[1;33m\u001b[0m\u001b[1;33m\u001b[0m\u001b[0m\n\u001b[1;32m----> 4\u001b[1;33m \u001b[0moptsigma\u001b[0m\u001b[1;33m=\u001b[0m\u001b[0mcvsigma\u001b[0m\u001b[1;33m[\u001b[0m\u001b[0midxsigma\u001b[0m\u001b[1;33m]\u001b[0m\u001b[1;33m;\u001b[0m\u001b[1;33m\u001b[0m\u001b[0m\n\u001b[0m\u001b[0;32m      5\u001b[0m \u001b[0moptcost\u001b[0m\u001b[1;33m=\u001b[0m\u001b[0mcvcost\u001b[0m\u001b[1;33m[\u001b[0m\u001b[0midxcost\u001b[0m\u001b[1;33m]\u001b[0m\u001b[1;33m;\u001b[0m\u001b[1;33m\u001b[0m\u001b[0m\n\u001b[0;32m      6\u001b[0m \u001b[0mprint\u001b[0m\u001b[1;33m(\u001b[0m\u001b[1;34m\"Best parameters: \\n  Sigma = %10.4f\\n  Cost = %10.4f\\n  Relative Accuracy = %10.4f\"\u001b[0m \u001b[1;33m%\u001b[0m \u001b[1;33m(\u001b[0m\u001b[0mcvsigma\u001b[0m\u001b[1;33m[\u001b[0m\u001b[0midxsigma\u001b[0m\u001b[1;33m]\u001b[0m\u001b[1;33m,\u001b[0m\u001b[0mcvcost\u001b[0m\u001b[1;33m[\u001b[0m\u001b[0midxcost\u001b[0m\u001b[1;33m]\u001b[0m\u001b[1;33m,\u001b[0m\u001b[0mcvmape\u001b[0m\u001b[1;33m[\u001b[0m\u001b[0midxsigma\u001b[0m\u001b[1;33m,\u001b[0m\u001b[0midxcost\u001b[0m\u001b[1;33m]\u001b[0m\u001b[1;33m)\u001b[0m\u001b[1;33m)\u001b[0m\u001b[1;33m\u001b[0m\u001b[0m\n",
      "\u001b[1;31mNameError\u001b[0m: name 'idxsigma' is not defined"
     ]
    }
   ],
   "source": [
    "#\n",
    "# Print out Results\n",
    "#\n",
    "optsigma=cvsigma[idxsigma];\n",
    "optcost=cvcost[idxcost];\n",
    "print(\"Best parameters: \\n  Sigma = %10.4f\\n  Cost = %10.4f\\n  Relative Accuracy = %10.4f\" % (cvsigma[idxsigma],cvcost[idxcost],cvmape[idxsigma,idxcost]))"
   ]
  },
  {
   "cell_type": "code",
   "execution_count": 8,
   "metadata": {
    "collapsed": false
   },
   "outputs": [
    {
     "ename": "NameError",
     "evalue": "name 'cvmape' is not defined",
     "output_type": "error",
     "traceback": [
      "\u001b[1;31m---------------------------------------------------------------------------\u001b[0m",
      "\u001b[1;31mNameError\u001b[0m                                 Traceback (most recent call last)",
      "\u001b[1;32m<ipython-input-8-a743a0a7e823>\u001b[0m in \u001b[0;36m<module>\u001b[1;34m()\u001b[0m\n\u001b[0;32m      4\u001b[0m \u001b[0mmatplotlib\u001b[0m\u001b[1;33m.\u001b[0m\u001b[0mrcParams\u001b[0m\u001b[1;33m.\u001b[0m\u001b[0mupdate\u001b[0m\u001b[1;33m(\u001b[0m\u001b[1;33m{\u001b[0m\u001b[1;34m'font.size'\u001b[0m\u001b[1;33m:\u001b[0m \u001b[1;36m14\u001b[0m\u001b[1;33m}\u001b[0m\u001b[1;33m)\u001b[0m\u001b[1;33m\u001b[0m\u001b[0m\n\u001b[0;32m      5\u001b[0m \u001b[0mfig\u001b[0m\u001b[1;33m,\u001b[0m \u001b[0max\u001b[0m \u001b[1;33m=\u001b[0m \u001b[0mplt\u001b[0m\u001b[1;33m.\u001b[0m\u001b[0msubplots\u001b[0m\u001b[1;33m(\u001b[0m\u001b[1;36m1\u001b[0m\u001b[1;33m,\u001b[0m\u001b[0mfigsize\u001b[0m\u001b[1;33m=\u001b[0m\u001b[1;33m(\u001b[0m\u001b[1;36m9\u001b[0m\u001b[1;33m,\u001b[0m\u001b[1;36m9\u001b[0m\u001b[1;33m)\u001b[0m\u001b[1;33m)\u001b[0m\u001b[1;33m\u001b[0m\u001b[0m\n\u001b[1;32m----> 6\u001b[1;33m \u001b[0max\u001b[0m\u001b[1;33m.\u001b[0m\u001b[0mimshow\u001b[0m\u001b[1;33m(\u001b[0m\u001b[0mcvmape\u001b[0m\u001b[1;33m,\u001b[0m\u001b[0minterpolation\u001b[0m\u001b[1;33m=\u001b[0m\u001b[1;34m'nearest'\u001b[0m\u001b[1;33m)\u001b[0m\u001b[1;33m\u001b[0m\u001b[0m\n\u001b[0m\u001b[0;32m      7\u001b[0m \u001b[1;32mfor\u001b[0m \u001b[0mi\u001b[0m \u001b[1;32min\u001b[0m \u001b[0mrange\u001b[0m\u001b[1;33m(\u001b[0m\u001b[0mnsigma\u001b[0m\u001b[1;33m)\u001b[0m\u001b[1;33m:\u001b[0m\u001b[1;33m\u001b[0m\u001b[0m\n\u001b[0;32m      8\u001b[0m     \u001b[1;32mfor\u001b[0m \u001b[0mj\u001b[0m \u001b[1;32min\u001b[0m \u001b[0mrange\u001b[0m\u001b[1;33m(\u001b[0m\u001b[0mncost\u001b[0m\u001b[1;33m)\u001b[0m\u001b[1;33m:\u001b[0m\u001b[1;33m\u001b[0m\u001b[0m\n",
      "\u001b[1;31mNameError\u001b[0m: name 'cvmape' is not defined"
     ]
    },
    {
     "data": {
      "image/png": "[encoded data removed]",
      "text/plain": [
       "<matplotlib.figure.Figure at 0xe9901cff28>"
      ]
     },
     "metadata": {},
     "output_type": "display_data"
    }
   ],
   "source": [
    "#\n",
    "# Plot results for all combinations tested\n",
    "#\n",
    "matplotlib.rcParams.update({'font.size': 14})\n",
    "fig, ax = plt.subplots(1,figsize=(9,9))\n",
    "ax.imshow(cvmape,interpolation='nearest')\n",
    "for i in range(nsigma):\n",
    "    for j in range(ncost):\n",
    "        ax.text(i,j,(\"%.4f\" % cvmape[j,i]), va='center', ha='center')\n",
    "        \n",
    "fig.suptitle('Average Absolute Percentual Error', fontsize=20)\n",
    "plt.xlabel('Cost')\n",
    "plt.ylabel('Sigma')\n",
    "\n",
    "plt.xticks(range(ncost),np.char.mod('%.2e', cvcost))\n",
    "plt.yticks(range(nsigma),cvsigma)\n",
    "\n",
    "fig.show()"
   ]
  },
  {
   "cell_type": "code",
   "execution_count": null,
   "metadata": {
    "collapsed": false
   },
   "outputs": [],
   "source": [
    "#\n",
    "# Run in all data set with optimal parameters\n",
    "#\n",
    "svr_rbf=SVR(kernel='rbf', C=optcost, gamma=optsigma)\n",
    "y_pred=svr_rbf.fit(nrm_X, y).predict(nrm_X)\n",
    "trainmape = np.mean ( np.abs((y - y_pred)/y) )\n"
   ]
  },
  {
   "cell_type": "code",
   "execution_count": null,
   "metadata": {
    "collapsed": false
   },
   "outputs": [],
   "source": [
    "#\n",
    "# Report Results\n",
    "#\n",
    "print(\"Cross-Validation Accuracy: %10.4f\\nTrain set Accuracy:        %10.4f\" %(cvmape[idxsigma,idxcost],trainmape))"
   ]
  },
  {
   "cell_type": "code",
   "execution_count": null,
   "metadata": {
    "collapsed": false
   },
   "outputs": [],
   "source": [
    "#\n",
    "#\n",
    "#\n",
    "fig, ax = plt.subplots(1,figsize=(9,9))\n",
    "ax.scatter(y,y_pred)\n",
    "ax.plot([0, np.max(y)], [0, np.max(y)], color=[1,0,0])\n",
    "axy=ax.get_ylim()\n",
    "axx=ax.get_xlim()\n",
    "plt.xlim(0,np.max([axx[1],axy[1]]))\n",
    "plt.ylim(0,np.max([axx[1],axy[1]]))\n",
    "fig.suptitle('Results', fontsize=20)\n",
    "plt.xlabel('True ($CAD)')\n",
    "plt.ylabel('Estimated ($CAD)')\n"
   ]
  },
  {
   "cell_type": "code",
   "execution_count": null,
   "metadata": {
    "collapsed": false
   },
   "outputs": [],
   "source": [
    "fig, ax = plt.subplots(1,figsize=(9,9))\n",
    "ax.scatter(y,y_pred)\n",
    "ax.plot([0, np.max(y)], [0, np.max(y)], color=[1,0,0])\n",
    "axy=ax.get_ylim()\n",
    "axx=ax.get_xlim()\n",
    "plt.xlim(0,2000000)\n",
    "plt.ylim(0,2000000)\n",
    "fig.suptitle('Zoom in Results', fontsize=20)\n",
    "plt.xlabel('True ($CAD)')\n",
    "plt.ylabel('Estimated ($CAD)')"
   ]
  },
  {
   "cell_type": "code",
   "execution_count": null,
   "metadata": {
    "collapsed": true
   },
   "outputs": [],
   "source": []
  }
 ],
 "metadata": {
  "kernelspec": {
   "display_name": "Python 3",
   "language": "python",
   "name": "python3"
  },
  "language_info": {
   "codemirror_mode": {
    "name": "ipython",
    "version": 3
   },
   "file_extension": ".py",
   "mimetype": "text/x-python",
   "name": "python",
   "nbconvert_exporter": "python",
   "pygments_lexer": "ipython3",
   "version": "3.5.0"
  }
 },
 "nbformat": 4,
 "nbformat_minor": 0
}
