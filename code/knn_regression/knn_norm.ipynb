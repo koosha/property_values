{
 "cells": [
  {
   "cell_type": "code",
   "execution_count": 1,
   "metadata": {
    "collapsed": false
   },
   "outputs": [
    {
     "name": "stdout",
     "output_type": "stream",
     "text": [
      "Automatically created module for IPython interactive environment\n",
      "Average error:  0.199195558791\n"
     ]
    }
   ],
   "source": [
    "print(__doc__)\n",
    "\n",
    "# Author: Camila Costa\n",
    "# for CMPUT 551\n",
    "# Code source based on Alexandre Gramfort's and Fabian Pedregosa's\n",
    "# License: BSD 3 clause (C) INRIA\n",
    "\n",
    "import pandas as pd\n",
    "import numpy as np\n",
    "import matplotlib.pyplot as plt\n",
    "from sklearn import neighbors\n",
    "from sklearn.cross_validation import KFold\n",
    "from sklearn.preprocessing import normalize\n",
    "\n",
    "# Load realestate dataset\n",
    "\n",
    "realestate = pd.read_csv('../../data/realestate/realestate.csv')\n",
    "X = realestate.ix[:,0:102]\n",
    "y = realestate.ix[:,110:111]\n",
    "\n",
    "X_norm = normalize(X.ix[:, 1:9], axis=0, norm='l2')\n",
    "X_last = normalize(X.ix[:, 101:102], axis=0, norm='l2')\n",
    "y_norm = normalize(y, axis=0, norm='l2')\n",
    "\n",
    "X_norm = np.concatenate((X_norm, X.ix[:, 9:101], X_last), axis=1)\n",
    "\n",
    "kf = KFold(len(X), n_folds=5)\n",
    "error = list()\n",
    "for train, test in kf:\n",
    "    #print(\"%s %s\" % (train, test))\n",
    "    X_train = X_norm[train]\n",
    "    X_test = X_norm[test]\n",
    "    y_train = y_norm[train]\n",
    "    y_test = y_norm[test]\n",
    "    \n",
    "    # Find the knn from the examples in the test set\n",
    "    n_neighbors = 10\n",
    "    knn = neighbors.KNeighborsRegressor(n_neighbors, weights='distance', p=1)\n",
    "    y_ = knn.fit(X_train, y_train).predict(X_test)\n",
    "\n",
    "    error.append(np.mean( np.abs(y_ - y_test)/ y_test))\n",
    "    \n",
    "print 'Average error: ', np.mean( error)\n",
    "\n",
    "\n",
    "#for j in range(len(y_)):\n",
    "#    error = np.abs(y_[j][0] - testY.ix[j][0])/ testY.ix[j][0]\n",
    "#    print 'Predicted:', y_[j][0], ' / Real:', testY.ix[j][0], ' - Error:', error\n",
    "\n",
    "    \n",
    "    \n",
    "\n",
    "    \n"
   ]
  },
  {
   "cell_type": "code",
   "execution_count": null,
   "metadata": {
    "collapsed": true
   },
   "outputs": [],
   "source": []
  },
  {
   "cell_type": "markdown",
   "metadata": {
    "collapsed": true
   },
   "source": [
    "# "
   ]
  },
  {
   "cell_type": "code",
   "execution_count": null,
   "metadata": {
    "collapsed": true
   },
   "outputs": [],
   "source": []
  },
  {
   "cell_type": "code",
   "execution_count": null,
   "metadata": {
    "collapsed": true
   },
   "outputs": [],
   "source": []
  },
  {
   "cell_type": "code",
   "execution_count": null,
   "metadata": {
    "collapsed": true
   },
   "outputs": [],
   "source": []
  },
  {
   "cell_type": "code",
   "execution_count": null,
   "metadata": {
    "collapsed": true
   },
   "outputs": [],
   "source": []
  },
  {
   "cell_type": "code",
   "execution_count": null,
   "metadata": {
    "collapsed": true
   },
   "outputs": [],
   "source": []
  }
 ],
 "metadata": {
  "kernelspec": {
   "display_name": "Python 2",
   "language": "python",
   "name": "python2"
  },
  "language_info": {
   "codemirror_mode": {
    "name": "ipython",
    "version": 2
   },
   "file_extension": ".py",
   "mimetype": "text/x-python",
   "name": "python",
   "nbconvert_exporter": "python",
   "pygments_lexer": "ipython2",
   "version": "2.7.10"
  }
 },
 "nbformat": 4,
 "nbformat_minor": 0
}
