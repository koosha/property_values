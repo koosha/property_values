{
 "cells": [
  {
   "cell_type": "code",
   "execution_count": 2,
   "metadata": {
    "collapsed": false
   },
   "outputs": [
    {
     "name": "stdout",
     "output_type": "stream",
     "text": [
      "Automatically created module for IPython interactive environment\n",
      "Average error:  0.133009156342\n"
     ]
    },
    {
     "name": "stderr",
     "output_type": "stream",
     "text": [
      "/usr/local/lib/python2.7/dist-packages/sklearn/utils/validation.py:515: DataConversionWarning: A column-vector y was passed when a 1d array was expected. Please change the shape of y to (n_samples, ), for example using ravel().\n",
      "  y = column_or_1d(y, warn=True)\n"
     ]
    }
   ],
   "source": [
    "print(__doc__)\n",
    "\n",
    "# Author: Camila Costa\n",
    "# for CMPUT 551\n",
    "# Code source based on Alexandre Gramfort's and Fabian Pedregosa's\n",
    "# License: BSD 3 clause (C) INRIA\n",
    "\n",
    "import pandas as pd\n",
    "import numpy as np\n",
    "import matplotlib.pyplot as plt\n",
    "from sklearn import neighbors\n",
    "from sklearn.cross_validation import KFold\n",
    "from sklearn.preprocessing import normalize\n",
    "from sklearn.feature_selection import SelectKBest\n",
    "from sklearn.feature_selection import f_regression\n",
    "\n",
    "# Load realestate dataset\n",
    "\n",
    "realestate = pd.read_csv('../../data/realestate/realestate.csv')\n",
    "f = realestate.shape[1]\n",
    "X = realestate.ix[:,0:f-1]\n",
    "y = realestate.ix[:,f-1:f]\n",
    "\n",
    "kbest = SelectKBest(f_regression, k=30)\n",
    "X = kbest.fit_transform(X,y)\n",
    "X = pd.DataFrame(X)\n",
    "\n",
    "kf = KFold(len(X), n_folds=5, shuffle=True)\n",
    "error = list()\n",
    "for train, test in kf:\n",
    "    X_train = X.ix[train]\n",
    "    X_test = X.ix[test]\n",
    "    y_train = y.ix[train]\n",
    "    y_test = y.ix[test]\n",
    "    \n",
    "    \n",
    "    # Find the knn from the examples in the test set\n",
    "    n_neighbors = 10\n",
    "    knn = neighbors.KNeighborsRegressor(n_neighbors, p = 1, weights='distance')\n",
    "    y_ = knn.fit(X_train, y_train).predict(X_test)\n",
    "\n",
    "    error.append(np.mean( np.abs(y_ - y_test)/ y_test))\n",
    "    \n",
    "print 'Average error: ', np.mean( error)\n",
    "\n",
    "\n",
    "    \n",
    "    \n",
    "\n",
    "    \n"
   ]
  },
  {
   "cell_type": "code",
   "execution_count": null,
   "metadata": {
    "collapsed": true
   },
   "outputs": [],
   "source": []
  },
  {
   "cell_type": "code",
   "execution_count": null,
   "metadata": {
    "collapsed": true
   },
   "outputs": [],
   "source": []
  },
  {
   "cell_type": "code",
   "execution_count": null,
   "metadata": {
    "collapsed": true
   },
   "outputs": [],
   "source": []
  },
  {
   "cell_type": "code",
   "execution_count": null,
   "metadata": {
    "collapsed": true
   },
   "outputs": [],
   "source": []
  },
  {
   "cell_type": "code",
   "execution_count": null,
   "metadata": {
    "collapsed": true
   },
   "outputs": [],
   "source": []
  },
  {
   "cell_type": "code",
   "execution_count": null,
   "metadata": {
    "collapsed": true
   },
   "outputs": [],
   "source": []
  },
  {
   "cell_type": "code",
   "execution_count": null,
   "metadata": {
    "collapsed": true
   },
   "outputs": [],
   "source": []
  }
 ],
 "metadata": {
  "kernelspec": {
   "display_name": "Python 2",
   "language": "python",
   "name": "python2"
  },
  "language_info": {
   "codemirror_mode": {
    "name": "ipython",
    "version": 2
   },
   "file_extension": ".py",
   "mimetype": "text/x-python",
   "name": "python",
   "nbconvert_exporter": "python",
   "pygments_lexer": "ipython2",
   "version": "2.7.10"
  }
 },
 "nbformat": 4,
 "nbformat_minor": 0
}
