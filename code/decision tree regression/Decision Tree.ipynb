{
 "cells": [
  {
   "cell_type": "code",
   "execution_count": 1,
   "metadata": {
    "collapsed": false
   },
   "outputs": [
    {
     "name": "stdout",
     "output_type": "stream",
     "text": [
      "[ 437112.09375     405632.37704918  375880.68965517 ...,  192035.75925926\n",
      "  192035.75925926  192035.75925926]\n",
      "depth =  12\n",
      "mean absolute error is 63418.3518979\n",
      "accuracy is 0.600323610317\n",
      "depth =  12\n",
      "mean absolute error is 62851.2308428\n",
      "accuracy is 0.601950939872\n"
     ]
    },
    {
     "name": "stderr",
     "output_type": "stream",
     "text": [
      "/Users/weijiesun/anaconda/lib/python2.7/site-packages/sklearn/utils/validation.py:515: DataConversionWarning: A column-vector y was passed when a 1d array was expected. Please change the shape of y to (n_samples, ), for example using ravel().\n",
      "  y = column_or_1d(y, warn=True)\n",
      "/Users/weijiesun/anaconda/lib/python2.7/site-packages/sklearn/utils/validation.py:515: DataConversionWarning: A column-vector y was passed when a 1d array was expected. Please change the shape of y to (n_samples, ), for example using ravel().\n",
      "  y = column_or_1d(y, warn=True)\n"
     ]
    }
   ],
   "source": [
    "\n",
    "import pandas as pd\n",
    "import numpy as np\n",
    "import matplotlib.pyplot as plt\n",
    "# Load realestate dataset\n",
    "from sklearn.tree import DecisionTreeRegressor\n",
    "from sklearn.metrics import log_loss\n",
    "from sklearn.metrics import mean_absolute_error\n",
    "from sklearn.metrics import r2_score\n",
    "from sklearn.feature_selection import SelectKBest\n",
    "from sklearn.feature_selection import f_regression\n",
    "\n",
    "from sklearn import preprocessing\n",
    "from sklearn.preprocessing import Imputer\n",
    "\n",
    "realestate = pd.read_csv('realestate_final.csv')\n",
    "#\n",
    "\n",
    "\n",
    "realestate['is_train'] = np.random.uniform(0, 1, len(realestate)) <= 0.75\n",
    "trainX = realestate[realestate['is_train']==True]\n",
    "testX = realestate[realestate['is_train']==False]\n",
    "\n",
    "\n",
    "# retained2 = kbest.get_support()\n",
    "\n",
    "trainY = trainX.ix[:,110:111]\n",
    "testY = testX.ix[:,110:111]\n",
    "trainX = trainX.ix[:,0:102]\n",
    "testX = testX.ix[:,0:102]\n",
    "\n",
    "kbest = SelectKBest(f_regression, k=7)\n",
    "trainX = kbest.fit_transform(trainX, trainY)\n",
    "trainX = pd.DataFrame(trainX)\n",
    "\n",
    "kbest = SelectKBest(f_regression, k=7)\n",
    "testX = kbest.fit_transform(testX, testY)\n",
    "testX = pd.DataFrame(testX)\n",
    "#retained2 = kbest.get_support()\n",
    "\n",
    "#\n",
    "    \n",
    "testY = testY.as_matrix()\n",
    "testY = np.transpose(testY)\n",
    "sizeY = testY.size\n",
    "\n",
    "\n",
    "depth1 = 12\n",
    "depth2 = 12\n",
    "# Fit regression model\n",
    "regr_1 = DecisionTreeRegressor(max_depth=depth1)\n",
    "regr_2 = DecisionTreeRegressor(max_depth=depth2)\n",
    "\n",
    "regr_1.fit(trainX, trainY)\n",
    "regr_2.fit(trainX, trainY)\n",
    "\n",
    "y_1 = regr_1.predict(testX)\n",
    "y_2 = regr_2.predict(testX)\n",
    "\n",
    "y1 = []\n",
    "y2=[]\n",
    "testy1 = []\n",
    "for j in testY[0]:\n",
    "    testy1.append(j)\n",
    "\n",
    "for i in y_1:\n",
    "    y1.append(i)\n",
    "for k in y_2:\n",
    "    y2.append(k)\n",
    "\n",
    "print (y_1)\n",
    "\n",
    "print 'depth = ',depth1\n",
    "error = mean_absolute_error(testY[0],y_1)#print (testY)\n",
    "print 'mean absolute error is',error\n",
    "score = r2_score(testy1, y1)  \n",
    "print 'accuracy is',score\n",
    "\n",
    "print 'depth = ',depth2\n",
    "error = mean_absolute_error(testY[0],y_2)#print (testY)\n",
    "print 'mean absolute error is',error\n",
    "score = r2_score(testy1, y2)  \n",
    "print 'accuracy is',score"
   ]
  },
  {
   "cell_type": "code",
   "execution_count": 14,
   "metadata": {
    "collapsed": false
   },
   "outputs": [],
   "source": [
    "\n",
    "\n",
    "\n",
    "\n",
    "# kf = KFold(len(X), n_folds=7)\n",
    "# error1 = list()\n",
    "# scoreList1 = list()\n",
    "# error2 = list()\n",
    "# scoreList2 = list()\n",
    "\n",
    "# depth1 = 5\n",
    "# depth2 = 12\n",
    "\n",
    "# for train, test in kf:\n",
    "#     #print(\"%s %s\" % (train, test))\n",
    "#     X_train = X.ix[train]\n",
    "#     X_test = X.ix[test]\n",
    "#     y_train = y.ix[train]\n",
    "#     y_test = y.ix[test]\n",
    "    \n",
    "\n",
    "#     # Fit regression model\n",
    "#     regr_1 = DecisionTreeRegressor(max_depth=depth1)\n",
    "#     regr_2 = DecisionTreeRegressor(max_depth=depth2)\n",
    "    \n",
    "#     regr_1.fit(X_train, y_train)\n",
    "#     regr_2.fit(X_train, y_train)\n",
    "\n",
    "#     y_1 = regr_1.predict(X_test)\n",
    "#     y_2 = regr_2.predict(X_test)\n",
    "    \n",
    "    \n",
    "#     y1 = np.reshape(y_1,(y_1.size,1))\n",
    "#     y2 = np.reshape(y_2,(y_2.size,1))\n",
    "#     #print y_test.shape\n",
    "\n",
    "    \n",
    "#     #print (y_1)\n",
    "#     #print (y_test)\n",
    "#     error1.append(np.mean(np.abs(y1 - y_test)/ y_test))\n",
    "#     scoreList1.append(r2_score(y_test, y1))\n",
    "#     error2.append(np.mean(np.abs(y2 - y_test)/ y_test))\n",
    "#     scoreList2.append(r2_score(y_test, y2))\n",
    "    \n",
    "# print 'when depth is ', depth1  \n",
    "# print 'Average error: ', np.mean( error1)\n",
    "# print 'Average score of R^2 :', np.mean(scoreList1)\n",
    "\n",
    "# print 'when depth is ', depth2  \n",
    "# print 'Average error: ', np.mean( error2)\n",
    "# print 'Average score of R^2 :', np.mean(scoreList2)"
   ]
  },
  {
   "cell_type": "code",
   "execution_count": 85,
   "metadata": {
    "collapsed": false
   },
   "outputs": [],
   "source": [
    "from sklearn.cross_validation import KFold\n",
    "\n",
    "def precise(X,y):\n",
    "    kf = KFold(len(X), n_folds=7)\n",
    "    error1 = list()\n",
    "    scoreList1 = list()\n",
    "    error2 = list()\n",
    "    scoreList2 = list()\n",
    "\n",
    "    depth1 = 5\n",
    "    depth2 = 10\n",
    "\n",
    "    for train, test in kf:\n",
    "        #print(\"%s %s\" % (train, test))\n",
    "        X_train = X.ix[train]\n",
    "        X_test = X.ix[test]\n",
    "        y_train = y.ix[train]\n",
    "        y_test = y.ix[test]\n",
    "\n",
    "\n",
    "        # Fit regression model\n",
    "        #regr_1 = DecisionTreeRegressor(max_depth=depth1)\n",
    "        regr_2 = DecisionTreeRegressor(max_depth=depth2)\n",
    "\n",
    "        #regr_1.fit(X_train, y_train)\n",
    "        regr_2.fit(X_train, y_train)\n",
    "\n",
    "        #y_1 = regr_1.predict(X_test)\n",
    "        y_2 = regr_2.predict(X_test)\n",
    "\n",
    "\n",
    "        #y1 = np.reshape(y_1,(y_1.size,1))\n",
    "        y2 = np.reshape(y_2,(y_2.size,1))\n",
    "\n",
    "\n",
    "\n",
    "        #error1.append(np.mean(np.abs(y1 - y_test)/ y_test))\n",
    "        #scoreList1.append(r2_score(y_test, y1))\n",
    "        error2.append(np.mean(np.abs(y2 - y_test)/ y_test))\n",
    "        scoreList2.append(r2_score(y_test, y2))\n",
    "\n",
    "#     print 'when depth is ', depth1  \n",
    "#     print 'Average error: ', np.mean( error1)\n",
    "#     print 'Average score of R^2 :', np.mean(scoreList1)\n",
    "\n",
    "    #print 'when depth is ', depth2  \n",
    "    #print 'Average error: ', np.mean( error2)\n",
    "    #print 'Average score of R^2 :', np.mean(scoreList2)\n",
    "    return np.mean( error2)\n",
    "    "
   ]
  },
  {
   "cell_type": "code",
   "execution_count": 42,
   "metadata": {
    "collapsed": false
   },
   "outputs": [
    {
     "name": "stdout",
     "output_type": "stream",
     "text": [
      "0.159116440265\n",
      "0.161220461913\n",
      "0.15920030295\n",
      "0.157294640951\n",
      "0.159999367325\n",
      "0.15907727795\n",
      "0.160145370571\n",
      "0.157212394809\n",
      "0.158671538945\n",
      "0.159645556079\n",
      "0.158436563328\n",
      "should delete  107 err is 0.157212394809\n"
     ]
    }
   ],
   "source": [
    "realestate = pd.read_csv('realestate_final.csv')\n",
    "X = realestate.ix[:,0:110]\n",
    "y = realestate.ix[:,110:111]\n",
    "\n",
    "\n",
    "\n",
    "#print (X)\n",
    "value_min = 1\n",
    "Index_min = 0\n",
    "for i in range(100,111):\n",
    "    temp1 = realestate.ix[:,0:i]\n",
    "    temp2 = realestate.ix[:,i+1:102]\n",
    "    #X = pd.merge(temp1, temp2)\n",
    "    X = temp1.join(temp2, how='inner')\n",
    "    #print (X)\n",
    "    #print (temp2)\n",
    "    #print (X)\n",
    "    #print (temp2)\n",
    "    result = precise(X,y)\n",
    "    print (result)\n",
    "    if value_min>result:\n",
    "        value_min = result\n",
    "        Index_min = i\n",
    "        \n",
    "print 'should delete ',Index_min ,'err is',value_min"
   ]
  },
  {
   "cell_type": "markdown",
   "metadata": {
    "collapsed": true
   },
   "source": [
    "# should delete  1 err is 0.137191950146\n",
    "# should delete  14 err is 0.156425517582\n",
    "# should delete  23 err is 0.155797968797\n",
    "# should delete  39 err is 0.156019521995\n",
    "# should delete  45 err is 0.155582645177\n",
    "# should delete  55 err is 0.155467285227\n",
    "# should delete  64 err is 0.156649104814\n",
    "# should delete  77 err is 0.155992222036\n",
    "# should delete  89 err is 0.154969365993\n",
    "# should delete  96 err is 0.155415727518"
   ]
  },
  {
   "cell_type": "code",
   "execution_count": 44,
   "metadata": {
    "collapsed": false
   },
   "outputs": [
    {
     "name": "stdout",
     "output_type": "stream",
     "text": [
      "0.139901874093\n"
     ]
    }
   ],
   "source": [
    "temp1 = realestate.ix[:,0:1]\n",
    "temp2 = realestate.ix[:,2:89]\n",
    "temp3 = realestate.ix[:,90:96]\n",
    "temp4 = realestate.ix[:,97:110]\n",
    "temp = temp1.join(temp2, how='inner')\n",
    "X = temp.join(temp3, how='inner')\n",
    "result = precise(X,y)\n",
    "print (result)\n",
    "#print temp1.join(temp2, how='inner')"
   ]
  },
  {
   "cell_type": "code",
   "execution_count": 93,
   "metadata": {
    "collapsed": false
   },
   "outputs": [
    {
     "name": "stdout",
     "output_type": "stream",
     "text": [
      "all feature is 0.150171942003\n",
      "only lat/long only 0.687447403134\n",
      "assessed value only 0.259831448984\n",
      "after feature selection is 0.13038701466\n"
     ]
    },
    {
     "name": "stderr",
     "output_type": "stream",
     "text": [
      "/Users/weijiesun/anaconda/lib/python2.7/site-packages/sklearn/utils/validation.py:515: DataConversionWarning: A column-vector y was passed when a 1d array was expected. Please change the shape of y to (n_samples, ), for example using ravel().\n",
      "  y = column_or_1d(y, warn=True)\n"
     ]
    }
   ],
   "source": [
    "realestate = pd.read_csv('realestate_final.csv')\n",
    "X = realestate.ix[:,0:110]\n",
    "y = realestate.ix[:,110:111]\n",
    "result = precise(X,y)\n",
    "print 'all feature is', result\n",
    "X = realestate.ix[:,1:3]\n",
    "y = realestate.ix[:,110:111]\n",
    "result = precise(X,y)\n",
    "print 'only lat/long only', result\n",
    "X = realestate.ix[:,0:1]\n",
    "y = realestate.ix[:,110:111]\n",
    "result = precise(X,y)\n",
    "print 'assessed value only', result\n",
    "X = realestate.ix[:,0:102]\n",
    "y = realestate.ix[:,110:111]\n",
    "kbest = SelectKBest(f_regression, k=21)\n",
    "X = kbest.fit_transform(X, y)\n",
    "X = pd.DataFrame(X)\n",
    "\n",
    "# kbest = SelectKBest(f_regression, k=7)\n",
    "# testX = kbest.fit_transform(testX, testY)\n",
    "# testX = pd.DataFrame(testX)\n",
    "result = precise(X,y)\n",
    "print 'after feature selection is',result"
   ]
  },
  {
   "cell_type": "raw",
   "metadata": {
    "collapsed": true
   },
   "source": [
    "Condo"
   ]
  },
  {
   "cell_type": "code",
   "execution_count": 78,
   "metadata": {
    "collapsed": false
   },
   "outputs": [
    {
     "name": "stdout",
     "output_type": "stream",
     "text": [
      "all feature is 0.164805280724\n",
      "only lat/long only 0.57223304024\n",
      "assessed value only 0.219712919313\n",
      "PA_ASSESSED_VALUE\n",
      "Acres\n",
      "Bathrooms\n",
      "Full Baths\n",
      "Square Footage\n",
      "Sub-Type - Lowrise Apartment\n",
      "Type – Single Family\n",
      "after feature selection is 0.14636999903\n"
     ]
    },
    {
     "name": "stderr",
     "output_type": "stream",
     "text": [
      "/Users/weijiesun/anaconda/lib/python2.7/site-packages/sklearn/utils/validation.py:515: DataConversionWarning: A column-vector y was passed when a 1d array was expected. Please change the shape of y to (n_samples, ), for example using ravel().\n",
      "  y = column_or_1d(y, warn=True)\n"
     ]
    }
   ],
   "source": [
    "realestate = pd.read_csv('realestate_condo.csv')\n",
    "X = realestate.ix[:,0:105]\n",
    "y = realestate.ix[:,105:106]\n",
    "\n",
    "result = precise(X,y)\n",
    "print 'all feature is', result\n",
    "X = realestate.ix[:,1:3]\n",
    "y = realestate.ix[:,105:106]\n",
    "result = precise(X,y)\n",
    "print 'only lat/long only', result\n",
    "X = realestate.ix[:,0:1]\n",
    "y = realestate.ix[:,105:106]\n",
    "result = precise(X,y)\n",
    "print 'assessed value only', result\n",
    "X = realestate.ix[:,0:105]\n",
    "y = realestate.ix[:,105:106]\n",
    "columns = X.columns\n",
    "kbest = SelectKBest(f_regression, k=7)\n",
    "X = kbest.fit_transform(X, y)\n",
    "X = pd.DataFrame(X)\n",
    "retained2 = kbest.get_support()\n",
    "#print retained2\n",
    "\n",
    "index = 0\n",
    "for i in retained2:\n",
    "    if i == True:\n",
    "        print (columns[index])\n",
    "    index = index +1\n",
    "# kbest = SelectKBest(f_regression, k=7)\n",
    "# testX = kbest.fit_transform(testX, testY)\n",
    "# testX = pd.DataFrame(testX)\n",
    "result = precise(X,y)\n",
    "print 'after feature selection is',result"
   ]
  },
  {
   "cell_type": "markdown",
   "metadata": {},
   "source": [
    "Res"
   ]
  },
  {
   "cell_type": "code",
   "execution_count": 64,
   "metadata": {
    "collapsed": false
   },
   "outputs": [
    {
     "name": "stdout",
     "output_type": "stream",
     "text": [
      "all feature is 0.149583447913\n",
      "only lat/long only 0.440869504967\n",
      "assessed value only 0.210184676724\n",
      "after feature selection is 0.132664179463\n"
     ]
    },
    {
     "name": "stderr",
     "output_type": "stream",
     "text": [
      "/Users/weijiesun/anaconda/lib/python2.7/site-packages/sklearn/utils/validation.py:515: DataConversionWarning: A column-vector y was passed when a 1d array was expected. Please change the shape of y to (n_samples, ), for example using ravel().\n",
      "  y = column_or_1d(y, warn=True)\n"
     ]
    }
   ],
   "source": [
    "realestate = pd.read_csv('realestate_residential.csv')\n",
    "X = realestate.ix[:,0:82]\n",
    "y = realestate.ix[:,82:83]\n",
    "\n",
    "result = precise(X,y)\n",
    "print 'all feature is', result\n",
    "X = realestate.ix[:,1:3]\n",
    "y = realestate.ix[:,82:83]\n",
    "result = precise(X,y)\n",
    "print 'only lat/long only', result\n",
    "X = realestate.ix[:,0:1]\n",
    "y = realestate.ix[:,82:83]\n",
    "result = precise(X,y)\n",
    "print 'assessed value only', result\n",
    "X = realestate.ix[:,0:82]\n",
    "y = realestate.ix[:,82:83]\n",
    "kbest = SelectKBest(f_regression, k=7)\n",
    "X = kbest.fit_transform(X, y)\n",
    "X = pd.DataFrame(X)\n",
    "\n",
    "# kbest = SelectKBest(f_regression, k=7)\n",
    "# testX = kbest.fit_transform(testX, testY)\n",
    "# testX = pd.DataFrame(testX)\n",
    "result = precise(X,y)\n",
    "print 'after feature selection is',result"
   ]
  },
  {
   "cell_type": "code",
   "execution_count": null,
   "metadata": {
    "collapsed": true
   },
   "outputs": [],
   "source": []
  }
 ],
 "metadata": {
  "kernelspec": {
   "display_name": "Python 2",
   "language": "python",
   "name": "python2"
  },
  "language_info": {
   "codemirror_mode": {
    "name": "ipython",
    "version": 2
   },
   "file_extension": ".py",
   "mimetype": "text/x-python",
   "name": "python",
   "nbconvert_exporter": "python",
   "pygments_lexer": "ipython2",
   "version": "2.7.10"
  }
 },
 "nbformat": 4,
 "nbformat_minor": 0
}
